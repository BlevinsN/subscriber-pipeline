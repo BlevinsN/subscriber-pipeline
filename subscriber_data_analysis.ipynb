{
 "cells": [
  {
   "cell_type": "code",
   "execution_count": 13,
   "id": "435deda4",
   "metadata": {},
   "outputs": [],
   "source": [
    "#Import sql module to work with the given data\n",
    "import sqlite3\n",
    "import pandas as pd"
   ]
  },
  {
   "cell_type": "code",
   "execution_count": 7,
   "id": "d683f4eb",
   "metadata": {},
   "outputs": [],
   "source": [
    "connection = sqlite3.connect('subscriber-pipeline-starter-kit/dev/cademycode.db')"
   ]
  },
  {
   "cell_type": "code",
   "execution_count": 10,
   "id": "5ad73e18",
   "metadata": {
    "scrolled": true
   },
   "outputs": [
    {
     "data": {
      "text/plain": [
       "('table',\n",
       " 'cademycode_students',\n",
       " 'cademycode_students',\n",
       " 2,\n",
       " 'CREATE TABLE cademycode_students (\\n\\tuuid INTEGER, \\n\\tname VARCHAR, \\n\\tdob VARCHAR, \\n\\tsex TEXT, \\n\\tcontact_info JSON, \\n\\tjob_id VARCHAR, \\n\\tnum_course_taken VARCHAR, \\n\\tcurrent_career_path_id VARCHAR, \\n\\ttime_spent_hrs VARCHAR\\n)')"
      ]
     },
     "execution_count": 10,
     "metadata": {},
     "output_type": "execute_result"
    }
   ],
   "source": [
    "cursor = connection.cursor()\n",
    "cursor.execute('SELECT * FROM sqlite_master').fetchone()"
   ]
  },
  {
   "cell_type": "markdown",
   "id": "571d7b6f",
   "metadata": {},
   "source": [
    "#### The database contains a table with the name 'codemycode_students'"
   ]
  },
  {
   "cell_type": "code",
   "execution_count": 111,
   "id": "502120d2",
   "metadata": {},
   "outputs": [
    {
     "name": "stdout",
     "output_type": "stream",
     "text": [
      "   uuid             name         dob sex  \\\n",
      "0     1  Annabelle Avery  1943-07-03   F   \n",
      "1     2      Micah Rubio  1991-02-07   M   \n",
      "2     3       Hosea Dale  1989-12-07   M   \n",
      "3     4     Mariann Kirk  1988-07-31   F   \n",
      "4     5  Lucio Alexander  1963-08-31   M   \n",
      "\n",
      "                                        contact_info job_id num_course_taken  \\\n",
      "0  {\"mailing_address\": \"303 N Timber Key, Irondal...    7.0              6.0   \n",
      "1  {\"mailing_address\": \"767 Crescent Fair, Shoals...    7.0              5.0   \n",
      "2  {\"mailing_address\": \"P.O. Box 41269, St. Bonav...    7.0              8.0   \n",
      "3  {\"mailing_address\": \"517 SE Wintergreen Isle, ...    6.0              7.0   \n",
      "4  {\"mailing_address\": \"18 Cinder Cliff, Doyles b...    7.0             14.0   \n",
      "\n",
      "  current_career_path_id time_spent_hrs  \n",
      "0                    1.0           4.99  \n",
      "1                    8.0            4.4  \n",
      "2                    8.0           6.74  \n",
      "3                    9.0          12.31  \n",
      "4                    3.0           5.64  \n"
     ]
    }
   ],
   "source": [
    "df = pd.read_sql_query(\"SELECT * FROM cademycode_students\", connection)\n",
    "print(df.head())"
   ]
  },
  {
   "cell_type": "code",
   "execution_count": 112,
   "id": "13f86e23",
   "metadata": {},
   "outputs": [
    {
     "name": "stdout",
     "output_type": "stream",
     "text": [
      "<class 'pandas.core.frame.DataFrame'>\n",
      "RangeIndex: 5000 entries, 0 to 4999\n",
      "Data columns (total 9 columns):\n",
      " #   Column                  Non-Null Count  Dtype \n",
      "---  ------                  --------------  ----- \n",
      " 0   uuid                    5000 non-null   int64 \n",
      " 1   name                    5000 non-null   object\n",
      " 2   dob                     5000 non-null   object\n",
      " 3   sex                     5000 non-null   object\n",
      " 4   contact_info            5000 non-null   object\n",
      " 5   job_id                  4995 non-null   object\n",
      " 6   num_course_taken        4749 non-null   object\n",
      " 7   current_career_path_id  4529 non-null   object\n",
      " 8   time_spent_hrs          4529 non-null   object\n",
      "dtypes: int64(1), object(8)\n",
      "memory usage: 351.7+ KB\n",
      "None\n"
     ]
    }
   ],
   "source": [
    "print(df.info())"
   ]
  },
  {
   "cell_type": "markdown",
   "id": "c1e60249",
   "metadata": {},
   "source": [
    "The columns of this database include:\n",
    "\n",
    "uuid &emsp;&emsp;&emsp;-this just seems to be the id of the student<br>\n",
    "name &emsp;&emsp;&emsp;-name of the student<br>\n",
    "dob  &emsp;&emsp;&emsp;-birthday of the student<br>\n",
    "sex  &emsp;&emsp;&emsp;-sex of the student<br>\n",
    "contact_info &emsp;&emsp;&emsp;-dictionary object with the contact information for the student<br>\n",
    "job_id &emsp;&emsp;&emsp;-integer depicting the id of the job the student holds<br>\n",
    "num_course_taken &emsp;&emsp;&emsp;-number of courses the studetn is taking<br>\n",
    "current_career_path_id &emsp;&emsp;&emsp;-id showing the career path the student is currently taking<br>\n",
    "time_spent_hrs &emsp;&emsp;&emsp;-amount of time in hours spent on the course<br>"
   ]
  },
  {
   "cell_type": "markdown",
   "id": "1dfdda51",
   "metadata": {},
   "source": [
    "The current file size is 351.7+ KB. With some cleaning up, this could be reduced."
   ]
  },
  {
   "cell_type": "markdown",
   "id": "e2ae0bac",
   "metadata": {},
   "source": [
    "The first column that looks like it could be fixed is the sex column. This column currently is a Dtype object which takes up more space and something like a boolean. Lets first check to see how many values are in the sex column"
   ]
  },
  {
   "cell_type": "code",
   "execution_count": 113,
   "id": "f05d9e44",
   "metadata": {},
   "outputs": [
    {
     "name": "stdout",
     "output_type": "stream",
     "text": [
      "M    1995\n",
      "F    1990\n",
      "N    1015\n",
      "Name: sex, dtype: int64\n"
     ]
    }
   ],
   "source": [
    "print(df.sex.value_counts())"
   ]
  },
  {
   "cell_type": "markdown",
   "id": "c53ca14d",
   "metadata": {},
   "source": [
    "It looks like there are only three different options for sex in the database, F, M, and N. This can be simplified to a one-hot encoding object of boolean"
   ]
  },
  {
   "cell_type": "code",
   "execution_count": 114,
   "id": "7ff7e7c6",
   "metadata": {},
   "outputs": [
    {
     "name": "stdout",
     "output_type": "stream",
     "text": [
      "   uuid             name         dob  \\\n",
      "0     1  Annabelle Avery  1943-07-03   \n",
      "1     2      Micah Rubio  1991-02-07   \n",
      "2     3       Hosea Dale  1989-12-07   \n",
      "3     4     Mariann Kirk  1988-07-31   \n",
      "4     5  Lucio Alexander  1963-08-31   \n",
      "\n",
      "                                        contact_info job_id num_course_taken  \\\n",
      "0  {\"mailing_address\": \"303 N Timber Key, Irondal...    7.0              6.0   \n",
      "1  {\"mailing_address\": \"767 Crescent Fair, Shoals...    7.0              5.0   \n",
      "2  {\"mailing_address\": \"P.O. Box 41269, St. Bonav...    7.0              8.0   \n",
      "3  {\"mailing_address\": \"517 SE Wintergreen Isle, ...    6.0              7.0   \n",
      "4  {\"mailing_address\": \"18 Cinder Cliff, Doyles b...    7.0             14.0   \n",
      "\n",
      "  current_career_path_id time_spent_hrs  sex_F  sex_M  sex_N  \n",
      "0                    1.0           4.99      1      0      0  \n",
      "1                    8.0            4.4      0      1      0  \n",
      "2                    8.0           6.74      0      1      0  \n",
      "3                    9.0          12.31      1      0      0  \n",
      "4                    3.0           5.64      0      1      0  \n"
     ]
    }
   ],
   "source": [
    "sex_encoded = pd.get_dummies(df[['sex']])\n",
    "df = pd.concat([df, sex_encoded], axis=1)\n",
    "df = df.drop(['sex'], axis=1)\n",
    "print(df.head())"
   ]
  },
  {
   "cell_type": "markdown",
   "id": "a1d9dfc8",
   "metadata": {},
   "source": [
    "Now the sex column has been converted into three columns that should be a little more efficient to work with. Lets check"
   ]
  },
  {
   "cell_type": "code",
   "execution_count": 115,
   "id": "e08dd6c0",
   "metadata": {},
   "outputs": [
    {
     "name": "stdout",
     "output_type": "stream",
     "text": [
      "<class 'pandas.core.frame.DataFrame'>\n",
      "RangeIndex: 5000 entries, 0 to 4999\n",
      "Data columns (total 11 columns):\n",
      " #   Column                  Non-Null Count  Dtype \n",
      "---  ------                  --------------  ----- \n",
      " 0   uuid                    5000 non-null   int64 \n",
      " 1   name                    5000 non-null   object\n",
      " 2   dob                     5000 non-null   object\n",
      " 3   contact_info            5000 non-null   object\n",
      " 4   job_id                  4995 non-null   object\n",
      " 5   num_course_taken        4749 non-null   object\n",
      " 6   current_career_path_id  4529 non-null   object\n",
      " 7   time_spent_hrs          4529 non-null   object\n",
      " 8   sex_F                   5000 non-null   uint8 \n",
      " 9   sex_M                   5000 non-null   uint8 \n",
      " 10  sex_N                   5000 non-null   uint8 \n",
      "dtypes: int64(1), object(7), uint8(3)\n",
      "memory usage: 327.3+ KB\n",
      "None\n"
     ]
    }
   ],
   "source": [
    "print(df.info())"
   ]
  },
  {
   "cell_type": "markdown",
   "id": "a6eeb296",
   "metadata": {},
   "source": [
    "Now we are down to 327.3 KB\n",
    "Next I would like to take a look at the different job_ids. It will be interesting to see what the different jobs are in this dataset."
   ]
  },
  {
   "cell_type": "code",
   "execution_count": 116,
   "id": "12f7e0cd",
   "metadata": {},
   "outputs": [
    {
     "name": "stdout",
     "output_type": "stream",
     "text": [
      "2.0    706\n",
      "1.0    693\n",
      "7.0    680\n",
      "3.0    675\n",
      "4.0    671\n",
      "5.0    660\n",
      "6.0    657\n",
      "8.0    253\n",
      "Name: job_id, dtype: int64\n"
     ]
    }
   ],
   "source": [
    "print(df.job_id.value_counts())"
   ]
  },
  {
   "cell_type": "markdown",
   "id": "76b5a46e",
   "metadata": {},
   "source": [
    "The job_id is only 8 different values in the type object. Before we convert this to an integer instead of an object, there are 5 rows that have Null values for this. I would like to convert these values to a 0 to make the transition easier. But first I would like to take a look at the 5 rows just to see if I notice anything odd about them."
   ]
  },
  {
   "cell_type": "code",
   "execution_count": 117,
   "id": "6808088d",
   "metadata": {},
   "outputs": [
    {
     "name": "stdout",
     "output_type": "stream",
     "text": [
      "      uuid              name         dob  \\\n",
      "162    163        Glen Riley  2002-08-22   \n",
      "757    758  Mercedez Vorberg  2002-03-25   \n",
      "854    855           Kurt Ho  2002-05-29   \n",
      "1029  1030      Penny Gaines  2002-03-01   \n",
      "1542  1543  Frederick Reilly  2002-11-13   \n",
      "\n",
      "                                           contact_info job_id  \\\n",
      "162   {\"mailing_address\": \"P.O. Box 37267, Cornlea v...   None   \n",
      "757   {\"mailing_address\": \"284 Cedar Seventh, Virden...   None   \n",
      "854   {\"mailing_address\": \"P.O. Box 27254, Olin, New...   None   \n",
      "1029  {\"mailing_address\": \"138 Misty Vale, Stockton ...   None   \n",
      "1542  {\"mailing_address\": \"P.O. Box 40769, Quakervil...   None   \n",
      "\n",
      "     num_course_taken current_career_path_id time_spent_hrs  sex_F  sex_M  \\\n",
      "162               8.0                    3.0            5.7      0      1   \n",
      "757              15.0                    4.0           4.14      1      0   \n",
      "854               0.0                    8.0          23.72      0      1   \n",
      "1029             15.0                    4.0          16.25      0      0   \n",
      "1542              7.0                    9.0          21.32      0      1   \n",
      "\n",
      "      sex_N  \n",
      "162       0  \n",
      "757       0  \n",
      "854       0  \n",
      "1029      1  \n",
      "1542      0  \n"
     ]
    }
   ],
   "source": [
    "null_mask = df['job_id'].isnull()\n",
    "null_rows = df[null_mask]\n",
    "print(null_rows)"
   ]
  },
  {
   "cell_type": "markdown",
   "id": "5a298486",
   "metadata": {},
   "source": [
    "There doesnt seem to be anything special about the missing values. I am going to change the values from None to 0 and make a note in the readme"
   ]
  },
  {
   "cell_type": "code",
   "execution_count": 118,
   "id": "8c43e6bd",
   "metadata": {},
   "outputs": [
    {
     "name": "stdout",
     "output_type": "stream",
     "text": [
      "2    706\n",
      "1    693\n",
      "7    680\n",
      "3    675\n",
      "4    671\n",
      "5    660\n",
      "6    657\n",
      "8    253\n",
      "0      5\n",
      "Name: job_id, dtype: int64\n",
      "<class 'pandas.core.frame.DataFrame'>\n",
      "RangeIndex: 5000 entries, 0 to 4999\n",
      "Data columns (total 11 columns):\n",
      " #   Column                  Non-Null Count  Dtype \n",
      "---  ------                  --------------  ----- \n",
      " 0   uuid                    5000 non-null   int64 \n",
      " 1   name                    5000 non-null   object\n",
      " 2   dob                     5000 non-null   object\n",
      " 3   contact_info            5000 non-null   object\n",
      " 4   job_id                  5000 non-null   int32 \n",
      " 5   num_course_taken        4749 non-null   object\n",
      " 6   current_career_path_id  4529 non-null   object\n",
      " 7   time_spent_hrs          4529 non-null   object\n",
      " 8   sex_F                   5000 non-null   uint8 \n",
      " 9   sex_M                   5000 non-null   uint8 \n",
      " 10  sex_N                   5000 non-null   uint8 \n",
      "dtypes: int32(1), int64(1), object(6), uint8(3)\n",
      "memory usage: 307.7+ KB\n",
      "None\n"
     ]
    }
   ],
   "source": [
    "df['job_id'] = df['job_id'].fillna(0.0)\n",
    "df['job_id'] = df['job_id'].astype('float')\n",
    "df['job_id'] = df['job_id'].astype('int')\n",
    "print(df.job_id.value_counts())\n",
    "print(df.info())"
   ]
  },
  {
   "cell_type": "markdown",
   "id": "8b26ec58",
   "metadata": {},
   "source": [
    "Now we have reduced the memory allocated to job_id to display the values as integers. This reduced our memory used from 327KB to 307KB."
   ]
  },
  {
   "cell_type": "markdown",
   "id": "9bf393e4",
   "metadata": {},
   "source": [
    "Next, to take care of the other low hanging fruit, I can change the data type for name from an object to a text and change the dob from an object to a date datatype"
   ]
  },
  {
   "cell_type": "code",
   "execution_count": 119,
   "id": "d3d4256a",
   "metadata": {},
   "outputs": [
    {
     "name": "stdout",
     "output_type": "stream",
     "text": [
      "<class 'pandas.core.frame.DataFrame'>\n",
      "RangeIndex: 5000 entries, 0 to 4999\n",
      "Data columns (total 11 columns):\n",
      " #   Column                  Non-Null Count  Dtype         \n",
      "---  ------                  --------------  -----         \n",
      " 0   uuid                    5000 non-null   int64         \n",
      " 1   name                    5000 non-null   object        \n",
      " 2   dob                     5000 non-null   datetime64[ns]\n",
      " 3   contact_info            5000 non-null   object        \n",
      " 4   job_id                  5000 non-null   int32         \n",
      " 5   num_course_taken        4749 non-null   object        \n",
      " 6   current_career_path_id  4529 non-null   object        \n",
      " 7   time_spent_hrs          4529 non-null   object        \n",
      " 8   sex_F                   5000 non-null   uint8         \n",
      " 9   sex_M                   5000 non-null   uint8         \n",
      " 10  sex_N                   5000 non-null   uint8         \n",
      "dtypes: datetime64[ns](1), int32(1), int64(1), object(5), uint8(3)\n",
      "memory usage: 307.7+ KB\n",
      "None\n"
     ]
    }
   ],
   "source": [
    "df['name'] = df['name'].astype('str')\n",
    "df['dob'] = pd.to_datetime(df['dob'], format='%Y-%m-%d')\n",
    "\n",
    "print(df.info())"
   ]
  },
  {
   "cell_type": "markdown",
   "id": "026edf4d",
   "metadata": {},
   "source": [
    "It looks like this didnt really reduce the memory of the dataset. However, the Dtypes are a little more descriptive now."
   ]
  },
  {
   "cell_type": "markdown",
   "id": "2d116183",
   "metadata": {},
   "source": [
    "The next column I will look at is the num_courses_taken column. First, lets see what types of values are stored in this column"
   ]
  },
  {
   "cell_type": "code",
   "execution_count": 120,
   "id": "f9eb2d67",
   "metadata": {},
   "outputs": [
    {
     "name": "stdout",
     "output_type": "stream",
     "text": [
      "5.0     341\n",
      "12.0    332\n",
      "2.0     312\n",
      "15.0    309\n",
      "10.0    306\n",
      "7.0     303\n",
      "13.0    297\n",
      "0.0     296\n",
      "8.0     291\n",
      "11.0    289\n",
      "4.0     285\n",
      "6.0     282\n",
      "14.0    280\n",
      "3.0     279\n",
      "1.0     279\n",
      "9.0     268\n",
      "Name: num_course_taken, dtype: int64\n"
     ]
    }
   ],
   "source": [
    "print(df.num_course_taken.value_counts())"
   ]
  },
  {
   "cell_type": "markdown",
   "id": "2729edba",
   "metadata": {},
   "source": [
    "It looks like this is another column where we could convert to integers. Lets take a look at the rows that have missing values"
   ]
  },
  {
   "cell_type": "code",
   "execution_count": 121,
   "id": "136f2d64",
   "metadata": {},
   "outputs": [
    {
     "name": "stdout",
     "output_type": "stream",
     "text": [
      "      uuid             name        dob  \\\n",
      "25      26    Doug Browning 1970-06-08   \n",
      "26      27  Damon Schrauwen 1953-10-31   \n",
      "51      52       Alisa Neil 1977-05-28   \n",
      "70      71  Chauncey Hooper 1962-04-07   \n",
      "80      81  Ellyn van Heest 1984-06-28   \n",
      "...    ...              ...        ...   \n",
      "4889  4890    Tegan Cochran 1970-11-08   \n",
      "4898  4899   Ruthann Oliver 1998-05-22   \n",
      "4914  4915    Ernest Holmes 1995-03-11   \n",
      "4980  4981   Brice Franklin 1946-12-01   \n",
      "4985  4986     Russel Vonck 1994-09-07   \n",
      "\n",
      "                                           contact_info  job_id  \\\n",
      "25    {\"mailing_address\": \"P.O. Box 15845, Devine, F...       7   \n",
      "26    {\"mailing_address\": \"P.O. Box 84659, Maben, Ge...       4   \n",
      "51    {\"mailing_address\": \"16 View Annex, Mosses, No...       5   \n",
      "70    {\"mailing_address\": \"955 Dewy Flat, Slaughterv...       3   \n",
      "80    {\"mailing_address\": \"872 Cider Glade, Chicken,...       3   \n",
      "...                                                 ...     ...   \n",
      "4889  {\"mailing_address\": \"106 Sunny Nook, Vernal, G...       5   \n",
      "4898  {\"mailing_address\": \"644 Merry Island, Green V...       3   \n",
      "4914  {\"mailing_address\": \"872 Wintergreen Harbor, G...       7   \n",
      "4980  {\"mailing_address\": \"947 Panda Way, New Bedfor...       4   \n",
      "4985  {\"mailing_address\": \"815 Middle Timber Corner,...       5   \n",
      "\n",
      "     num_course_taken current_career_path_id time_spent_hrs  sex_F  sex_M  \\\n",
      "25               None                    5.0           1.92      0      1   \n",
      "26               None                   10.0           3.73      0      1   \n",
      "51               None                    8.0          22.86      1      0   \n",
      "70               None                    3.0           3.97      0      1   \n",
      "80               None                   10.0          12.39      1      0   \n",
      "...               ...                    ...            ...    ...    ...   \n",
      "4889             None                    8.0          22.75      1      0   \n",
      "4898             None                    7.0          21.27      1      0   \n",
      "4914             None                    9.0           26.5      0      1   \n",
      "4980             None                    5.0           8.66      0      1   \n",
      "4985             None                    5.0          16.44      0      1   \n",
      "\n",
      "      sex_N  \n",
      "25        0  \n",
      "26        0  \n",
      "51        0  \n",
      "70        0  \n",
      "80        0  \n",
      "...     ...  \n",
      "4889      0  \n",
      "4898      0  \n",
      "4914      0  \n",
      "4980      0  \n",
      "4985      0  \n",
      "\n",
      "[251 rows x 11 columns]\n"
     ]
    }
   ],
   "source": [
    "null_mask = df['num_course_taken'].isnull()\n",
    "null_rows = df[null_mask]\n",
    "print(null_rows)"
   ]
  },
  {
   "cell_type": "markdown",
   "id": "37c7097f",
   "metadata": {},
   "source": [
    "There doesnt seem to be any reason why this data is mising. The other columns are populated. So for now, I will convert these to np.nan so I can convert the rest of the column to integers"
   ]
  },
  {
   "cell_type": "code",
   "execution_count": 122,
   "id": "24fa7c46",
   "metadata": {},
   "outputs": [
    {
     "name": "stdout",
     "output_type": "stream",
     "text": [
      "<class 'pandas.core.frame.DataFrame'>\n",
      "RangeIndex: 5000 entries, 0 to 4999\n",
      "Data columns (total 11 columns):\n",
      " #   Column                  Non-Null Count  Dtype         \n",
      "---  ------                  --------------  -----         \n",
      " 0   uuid                    5000 non-null   int64         \n",
      " 1   name                    5000 non-null   object        \n",
      " 2   dob                     5000 non-null   datetime64[ns]\n",
      " 3   contact_info            5000 non-null   object        \n",
      " 4   job_id                  5000 non-null   int32         \n",
      " 5   num_course_taken        4749 non-null   Int32         \n",
      " 6   current_career_path_id  4529 non-null   object        \n",
      " 7   time_spent_hrs          4529 non-null   object        \n",
      " 8   sex_F                   5000 non-null   uint8         \n",
      " 9   sex_M                   5000 non-null   uint8         \n",
      " 10  sex_N                   5000 non-null   uint8         \n",
      "dtypes: Int32(1), datetime64[ns](1), int32(1), int64(1), object(4), uint8(3)\n",
      "memory usage: 293.1+ KB\n",
      "None\n"
     ]
    }
   ],
   "source": [
    "df['num_course_taken'] = df['num_course_taken'].astype('float')\n",
    "df['num_course_taken'] = df['num_course_taken'].astype('Int32')\n",
    "print(df.info())"
   ]
  },
  {
   "cell_type": "markdown",
   "id": "b2c51960",
   "metadata": {},
   "source": [
    "Now the num_course_taken column will have null values but wont be an object which will make it easier for us to work with. This also reduced our memory usage from 307KB to 293KB! Now I would like to try the same thing with the current_career_path_id column"
   ]
  },
  {
   "cell_type": "code",
   "execution_count": 123,
   "id": "ae761ba6",
   "metadata": {},
   "outputs": [
    {
     "name": "stdout",
     "output_type": "stream",
     "text": [
      "5.0     476\n",
      "3.0     469\n",
      "10.0    460\n",
      "1.0     459\n",
      "6.0     454\n",
      "2.0     450\n",
      "7.0     449\n",
      "9.0     441\n",
      "8.0     437\n",
      "4.0     434\n",
      "Name: current_career_path_id, dtype: int64\n"
     ]
    }
   ],
   "source": [
    "print(df.current_career_path_id.value_counts())"
   ]
  },
  {
   "cell_type": "code",
   "execution_count": 124,
   "id": "dcf460cf",
   "metadata": {},
   "outputs": [
    {
     "name": "stdout",
     "output_type": "stream",
     "text": [
      "<class 'pandas.core.frame.DataFrame'>\n",
      "RangeIndex: 5000 entries, 0 to 4999\n",
      "Data columns (total 11 columns):\n",
      " #   Column                  Non-Null Count  Dtype         \n",
      "---  ------                  --------------  -----         \n",
      " 0   uuid                    5000 non-null   int64         \n",
      " 1   name                    5000 non-null   object        \n",
      " 2   dob                     5000 non-null   datetime64[ns]\n",
      " 3   contact_info            5000 non-null   object        \n",
      " 4   job_id                  5000 non-null   int32         \n",
      " 5   num_course_taken        4749 non-null   Int32         \n",
      " 6   current_career_path_id  4529 non-null   Int32         \n",
      " 7   time_spent_hrs          4529 non-null   object        \n",
      " 8   sex_F                   5000 non-null   uint8         \n",
      " 9   sex_M                   5000 non-null   uint8         \n",
      " 10  sex_N                   5000 non-null   uint8         \n",
      "dtypes: Int32(2), datetime64[ns](1), int32(1), int64(1), object(3), uint8(3)\n",
      "memory usage: 278.4+ KB\n",
      "None\n"
     ]
    }
   ],
   "source": [
    "df['current_career_path_id'] = df['current_career_path_id'].astype('float')\n",
    "df['current_career_path_id'] = df['current_career_path_id'].astype('Int32')\n",
    "print(df.info())"
   ]
  },
  {
   "cell_type": "markdown",
   "id": "f7127a69",
   "metadata": {},
   "source": [
    "That took our memory usage down from 293 to 278! Keep in mind we started at 350KB.\n",
    "Lastly, we will try this out wiht the time_spend_hrs column"
   ]
  },
  {
   "cell_type": "code",
   "execution_count": 125,
   "id": "2f6e7dc9",
   "metadata": {},
   "outputs": [
    {
     "name": "stdout",
     "output_type": "stream",
     "text": [
      "5.93     8\n",
      "17.47    8\n",
      "11.9     7\n",
      "7.05     7\n",
      "2.91     7\n",
      "        ..\n",
      "27.53    1\n",
      "8.07     1\n",
      "27.51    1\n",
      "29.66    1\n",
      "23.54    1\n",
      "Name: time_spent_hrs, Length: 2192, dtype: int64\n"
     ]
    }
   ],
   "source": [
    "print(df.time_spent_hrs.value_counts())"
   ]
  },
  {
   "cell_type": "markdown",
   "id": "077b8220",
   "metadata": {},
   "source": [
    "It looks like time spent in hours has 2192 unique values, and there are quite a few with decimal value which is important. Lets just convert these to a float value and leave it as is."
   ]
  },
  {
   "cell_type": "code",
   "execution_count": 126,
   "id": "6228e134",
   "metadata": {},
   "outputs": [
    {
     "name": "stdout",
     "output_type": "stream",
     "text": [
      "<class 'pandas.core.frame.DataFrame'>\n",
      "RangeIndex: 5000 entries, 0 to 4999\n",
      "Data columns (total 11 columns):\n",
      " #   Column                  Non-Null Count  Dtype         \n",
      "---  ------                  --------------  -----         \n",
      " 0   uuid                    5000 non-null   int64         \n",
      " 1   name                    5000 non-null   object        \n",
      " 2   dob                     5000 non-null   datetime64[ns]\n",
      " 3   contact_info            5000 non-null   object        \n",
      " 4   job_id                  5000 non-null   int32         \n",
      " 5   num_course_taken        4749 non-null   Int32         \n",
      " 6   current_career_path_id  4529 non-null   Int32         \n",
      " 7   time_spent_hrs          4529 non-null   float32       \n",
      " 8   sex_F                   5000 non-null   uint8         \n",
      " 9   sex_M                   5000 non-null   uint8         \n",
      " 10  sex_N                   5000 non-null   uint8         \n",
      "dtypes: Int32(2), datetime64[ns](1), float32(1), int32(1), int64(1), object(2), uint8(3)\n",
      "memory usage: 258.9+ KB\n",
      "None\n"
     ]
    }
   ],
   "source": [
    "df['time_spent_hrs'] = df['time_spent_hrs'].astype('float32')\n",
    "print(df.info())"
   ]
  },
  {
   "cell_type": "code",
   "execution_count": 129,
   "id": "c22d342a",
   "metadata": {},
   "outputs": [
    {
     "data": {
      "text/plain": [
       "5.930000     8\n",
       "17.469999    8\n",
       "11.900000    7\n",
       "7.050000     7\n",
       "2.910000     7\n",
       "            ..\n",
       "27.530001    1\n",
       "8.070000     1\n",
       "27.510000    1\n",
       "29.660000    1\n",
       "23.540001    1\n",
       "Name: time_spent_hrs, Length: 2192, dtype: int64"
      ]
     },
     "execution_count": 129,
     "metadata": {},
     "output_type": "execute_result"
    }
   ],
   "source": [
    "df.time_spent_hrs.value_counts()"
   ]
  },
  {
   "cell_type": "markdown",
   "id": "9cbcda4f",
   "metadata": {},
   "source": [
    "Now the time_spend_hrs is type float32 which is the lowest we can go without losing precision of our data. This is the cleanest we can get with the data for now"
   ]
  },
  {
   "cell_type": "code",
   "execution_count": 130,
   "id": "14c81138",
   "metadata": {},
   "outputs": [
    {
     "data": {
      "text/html": [
       "<div>\n",
       "<style scoped>\n",
       "    .dataframe tbody tr th:only-of-type {\n",
       "        vertical-align: middle;\n",
       "    }\n",
       "\n",
       "    .dataframe tbody tr th {\n",
       "        vertical-align: top;\n",
       "    }\n",
       "\n",
       "    .dataframe thead th {\n",
       "        text-align: right;\n",
       "    }\n",
       "</style>\n",
       "<table border=\"1\" class=\"dataframe\">\n",
       "  <thead>\n",
       "    <tr style=\"text-align: right;\">\n",
       "      <th></th>\n",
       "      <th>uuid</th>\n",
       "      <th>job_id</th>\n",
       "      <th>num_course_taken</th>\n",
       "      <th>current_career_path_id</th>\n",
       "      <th>time_spent_hrs</th>\n",
       "      <th>sex_F</th>\n",
       "      <th>sex_M</th>\n",
       "      <th>sex_N</th>\n",
       "    </tr>\n",
       "  </thead>\n",
       "  <tbody>\n",
       "    <tr>\n",
       "      <th>count</th>\n",
       "      <td>5000.000000</td>\n",
       "      <td>5000.00000</td>\n",
       "      <td>4749.0</td>\n",
       "      <td>4529.0</td>\n",
       "      <td>4529.000000</td>\n",
       "      <td>5000.000000</td>\n",
       "      <td>5000.000000</td>\n",
       "      <td>5000.000000</td>\n",
       "    </tr>\n",
       "    <tr>\n",
       "      <th>mean</th>\n",
       "      <td>2500.500000</td>\n",
       "      <td>4.16800</td>\n",
       "      <td>7.533586</td>\n",
       "      <td>5.478914</td>\n",
       "      <td>11.520624</td>\n",
       "      <td>0.398000</td>\n",
       "      <td>0.399000</td>\n",
       "      <td>0.203000</td>\n",
       "    </tr>\n",
       "    <tr>\n",
       "      <th>std</th>\n",
       "      <td>1443.520003</td>\n",
       "      <td>2.15107</td>\n",
       "      <td>4.609884</td>\n",
       "      <td>2.874135</td>\n",
       "      <td>7.564236</td>\n",
       "      <td>0.489534</td>\n",
       "      <td>0.489742</td>\n",
       "      <td>0.402273</td>\n",
       "    </tr>\n",
       "    <tr>\n",
       "      <th>min</th>\n",
       "      <td>1.000000</td>\n",
       "      <td>0.00000</td>\n",
       "      <td>0.0</td>\n",
       "      <td>1.0</td>\n",
       "      <td>0.000000</td>\n",
       "      <td>0.000000</td>\n",
       "      <td>0.000000</td>\n",
       "      <td>0.000000</td>\n",
       "    </tr>\n",
       "    <tr>\n",
       "      <th>25%</th>\n",
       "      <td>1250.750000</td>\n",
       "      <td>2.00000</td>\n",
       "      <td>4.0</td>\n",
       "      <td>3.0</td>\n",
       "      <td>5.380000</td>\n",
       "      <td>0.000000</td>\n",
       "      <td>0.000000</td>\n",
       "      <td>0.000000</td>\n",
       "    </tr>\n",
       "    <tr>\n",
       "      <th>50%</th>\n",
       "      <td>2500.500000</td>\n",
       "      <td>4.00000</td>\n",
       "      <td>7.0</td>\n",
       "      <td>5.0</td>\n",
       "      <td>10.670000</td>\n",
       "      <td>0.000000</td>\n",
       "      <td>0.000000</td>\n",
       "      <td>0.000000</td>\n",
       "    </tr>\n",
       "    <tr>\n",
       "      <th>75%</th>\n",
       "      <td>3750.250000</td>\n",
       "      <td>6.00000</td>\n",
       "      <td>12.0</td>\n",
       "      <td>8.0</td>\n",
       "      <td>16.750000</td>\n",
       "      <td>1.000000</td>\n",
       "      <td>1.000000</td>\n",
       "      <td>0.000000</td>\n",
       "    </tr>\n",
       "    <tr>\n",
       "      <th>max</th>\n",
       "      <td>5000.000000</td>\n",
       "      <td>8.00000</td>\n",
       "      <td>15.0</td>\n",
       "      <td>10.0</td>\n",
       "      <td>35.980000</td>\n",
       "      <td>1.000000</td>\n",
       "      <td>1.000000</td>\n",
       "      <td>1.000000</td>\n",
       "    </tr>\n",
       "  </tbody>\n",
       "</table>\n",
       "</div>"
      ],
      "text/plain": [
       "              uuid      job_id  num_course_taken  current_career_path_id  \\\n",
       "count  5000.000000  5000.00000            4749.0                  4529.0   \n",
       "mean   2500.500000     4.16800          7.533586                5.478914   \n",
       "std    1443.520003     2.15107          4.609884                2.874135   \n",
       "min       1.000000     0.00000               0.0                     1.0   \n",
       "25%    1250.750000     2.00000               4.0                     3.0   \n",
       "50%    2500.500000     4.00000               7.0                     5.0   \n",
       "75%    3750.250000     6.00000              12.0                     8.0   \n",
       "max    5000.000000     8.00000              15.0                    10.0   \n",
       "\n",
       "       time_spent_hrs        sex_F        sex_M        sex_N  \n",
       "count     4529.000000  5000.000000  5000.000000  5000.000000  \n",
       "mean        11.520624     0.398000     0.399000     0.203000  \n",
       "std          7.564236     0.489534     0.489742     0.402273  \n",
       "min          0.000000     0.000000     0.000000     0.000000  \n",
       "25%          5.380000     0.000000     0.000000     0.000000  \n",
       "50%         10.670000     0.000000     0.000000     0.000000  \n",
       "75%         16.750000     1.000000     1.000000     0.000000  \n",
       "max         35.980000     1.000000     1.000000     1.000000  "
      ]
     },
     "execution_count": 130,
     "metadata": {},
     "output_type": "execute_result"
    }
   ],
   "source": [
    "df.describe()"
   ]
  },
  {
   "cell_type": "code",
   "execution_count": 135,
   "id": "b534aaa6",
   "metadata": {},
   "outputs": [
    {
     "name": "stdout",
     "output_type": "stream",
     "text": [
      "      uuid                   name        dob  \\\n",
      "15      16          Norene Dalton 1976-04-30   \n",
      "19      20  Sofia van Steenbergen 1990-02-21   \n",
      "30      31      Christoper Warner 1989-12-28   \n",
      "49      50           Antony Horne 1996-05-29   \n",
      "54      55              Omar Bunk 1955-11-08   \n",
      "...    ...                    ...        ...   \n",
      "4904  4905         Eduardo Daniel 2004-06-18   \n",
      "4922  4923      Francisco van Ede 1961-04-26   \n",
      "4948  4949      Dewitt van Malsem 1949-03-08   \n",
      "4956  4957          Todd Stamhuis 1961-06-15   \n",
      "4974  4975         Jorge Creelman 1944-11-24   \n",
      "\n",
      "                                           contact_info  job_id  \\\n",
      "15    {\"mailing_address\": \"130 Wishing Essex, Branch...       6   \n",
      "19    {\"mailing_address\": \"634 Clear Barn Dell, Beam...       7   \n",
      "30    {\"mailing_address\": \"556 Stony Highlands, Drai...       2   \n",
      "49    {\"mailing_address\": \"P.O. Box 78685, Lenox, Te...       3   \n",
      "54    {\"mailing_address\": \"445 Dale Hollow, Vermont ...       3   \n",
      "...                                                 ...     ...   \n",
      "4904  {\"mailing_address\": \"598 Deer Trace, Forest Gr...       8   \n",
      "4922  {\"mailing_address\": \"282 Fourth Trace, Carter ...       7   \n",
      "4948  {\"mailing_address\": \"423 Course Trail, Wilmot,...       4   \n",
      "4956  {\"mailing_address\": \"251 Grand Rose Underpass,...       7   \n",
      "4974  {\"mailing_address\": \"919 Well Overpass, Linden...       2   \n",
      "\n",
      "      num_course_taken  current_career_path_id  time_spent_hrs  sex_F  sex_M  \\\n",
      "15                   0                    <NA>             NaN      1      0   \n",
      "19                  13                    <NA>             NaN      0      0   \n",
      "30                   5                    <NA>             NaN      0      1   \n",
      "49                   2                    <NA>             NaN      0      1   \n",
      "54                  14                    <NA>             NaN      0      1   \n",
      "...                ...                     ...             ...    ...    ...   \n",
      "4904                12                    <NA>             NaN      0      1   \n",
      "4922                 5                    <NA>             NaN      0      1   \n",
      "4948                 7                    <NA>             NaN      0      1   \n",
      "4956                 8                    <NA>             NaN      0      1   \n",
      "4974                15                    <NA>             NaN      0      1   \n",
      "\n",
      "      sex_N  \n",
      "15        0  \n",
      "19        1  \n",
      "30        0  \n",
      "49        0  \n",
      "54        0  \n",
      "...     ...  \n",
      "4904      0  \n",
      "4922      0  \n",
      "4948      0  \n",
      "4956      0  \n",
      "4974      0  \n",
      "\n",
      "[471 rows x 11 columns]\n"
     ]
    }
   ],
   "source": [
    "print(df[df['time_spent_hrs'].isna()])"
   ]
  },
  {
   "cell_type": "markdown",
   "id": "38867a34",
   "metadata": {},
   "source": [
    "Upon looking deeper into the data, it looks like there are quite a few rows where both current_career_path_id and time_spend_hrs are both missing. Both rows have the same number of non null values, but I'm not sure if all rows with time_spend_hrs as NaN is the same rows as the current_career_path_id as NA"
   ]
  },
  {
   "cell_type": "code",
   "execution_count": 139,
   "id": "29aaebe6",
   "metadata": {},
   "outputs": [
    {
     "data": {
      "text/html": [
       "<div>\n",
       "<style scoped>\n",
       "    .dataframe tbody tr th:only-of-type {\n",
       "        vertical-align: middle;\n",
       "    }\n",
       "\n",
       "    .dataframe tbody tr th {\n",
       "        vertical-align: top;\n",
       "    }\n",
       "\n",
       "    .dataframe thead th {\n",
       "        text-align: right;\n",
       "    }\n",
       "</style>\n",
       "<table border=\"1\" class=\"dataframe\">\n",
       "  <thead>\n",
       "    <tr style=\"text-align: right;\">\n",
       "      <th></th>\n",
       "      <th>uuid</th>\n",
       "      <th>job_id</th>\n",
       "      <th>num_course_taken</th>\n",
       "      <th>current_career_path_id</th>\n",
       "      <th>time_spent_hrs</th>\n",
       "      <th>sex_F</th>\n",
       "      <th>sex_M</th>\n",
       "      <th>sex_N</th>\n",
       "    </tr>\n",
       "  </thead>\n",
       "  <tbody>\n",
       "    <tr>\n",
       "      <th>count</th>\n",
       "      <td>471.000000</td>\n",
       "      <td>471.000000</td>\n",
       "      <td>451.0</td>\n",
       "      <td>0.0</td>\n",
       "      <td>0.0</td>\n",
       "      <td>471.000000</td>\n",
       "      <td>471.000000</td>\n",
       "      <td>471.000000</td>\n",
       "    </tr>\n",
       "    <tr>\n",
       "      <th>mean</th>\n",
       "      <td>2550.690021</td>\n",
       "      <td>4.405520</td>\n",
       "      <td>7.776053</td>\n",
       "      <td>&lt;NA&gt;</td>\n",
       "      <td>NaN</td>\n",
       "      <td>0.397028</td>\n",
       "      <td>0.435244</td>\n",
       "      <td>0.167728</td>\n",
       "    </tr>\n",
       "    <tr>\n",
       "      <th>std</th>\n",
       "      <td>1412.471144</td>\n",
       "      <td>2.093326</td>\n",
       "      <td>4.605403</td>\n",
       "      <td>&lt;NA&gt;</td>\n",
       "      <td>NaN</td>\n",
       "      <td>0.489802</td>\n",
       "      <td>0.496316</td>\n",
       "      <td>0.374022</td>\n",
       "    </tr>\n",
       "    <tr>\n",
       "      <th>min</th>\n",
       "      <td>16.000000</td>\n",
       "      <td>1.000000</td>\n",
       "      <td>0.0</td>\n",
       "      <td>&lt;NA&gt;</td>\n",
       "      <td>NaN</td>\n",
       "      <td>0.000000</td>\n",
       "      <td>0.000000</td>\n",
       "      <td>0.000000</td>\n",
       "    </tr>\n",
       "    <tr>\n",
       "      <th>25%</th>\n",
       "      <td>1370.500000</td>\n",
       "      <td>3.000000</td>\n",
       "      <td>4.0</td>\n",
       "      <td>&lt;NA&gt;</td>\n",
       "      <td>NaN</td>\n",
       "      <td>0.000000</td>\n",
       "      <td>0.000000</td>\n",
       "      <td>0.000000</td>\n",
       "    </tr>\n",
       "    <tr>\n",
       "      <th>50%</th>\n",
       "      <td>2494.000000</td>\n",
       "      <td>5.000000</td>\n",
       "      <td>8.0</td>\n",
       "      <td>&lt;NA&gt;</td>\n",
       "      <td>NaN</td>\n",
       "      <td>0.000000</td>\n",
       "      <td>0.000000</td>\n",
       "      <td>0.000000</td>\n",
       "    </tr>\n",
       "    <tr>\n",
       "      <th>75%</th>\n",
       "      <td>3802.000000</td>\n",
       "      <td>6.000000</td>\n",
       "      <td>12.0</td>\n",
       "      <td>&lt;NA&gt;</td>\n",
       "      <td>NaN</td>\n",
       "      <td>1.000000</td>\n",
       "      <td>1.000000</td>\n",
       "      <td>0.000000</td>\n",
       "    </tr>\n",
       "    <tr>\n",
       "      <th>max</th>\n",
       "      <td>4975.000000</td>\n",
       "      <td>8.000000</td>\n",
       "      <td>15.0</td>\n",
       "      <td>&lt;NA&gt;</td>\n",
       "      <td>NaN</td>\n",
       "      <td>1.000000</td>\n",
       "      <td>1.000000</td>\n",
       "      <td>1.000000</td>\n",
       "    </tr>\n",
       "  </tbody>\n",
       "</table>\n",
       "</div>"
      ],
      "text/plain": [
       "              uuid      job_id  num_course_taken  current_career_path_id  \\\n",
       "count   471.000000  471.000000             451.0                     0.0   \n",
       "mean   2550.690021    4.405520          7.776053                    <NA>   \n",
       "std    1412.471144    2.093326          4.605403                    <NA>   \n",
       "min      16.000000    1.000000               0.0                    <NA>   \n",
       "25%    1370.500000    3.000000               4.0                    <NA>   \n",
       "50%    2494.000000    5.000000               8.0                    <NA>   \n",
       "75%    3802.000000    6.000000              12.0                    <NA>   \n",
       "max    4975.000000    8.000000              15.0                    <NA>   \n",
       "\n",
       "       time_spent_hrs       sex_F       sex_M       sex_N  \n",
       "count             0.0  471.000000  471.000000  471.000000  \n",
       "mean              NaN    0.397028    0.435244    0.167728  \n",
       "std               NaN    0.489802    0.496316    0.374022  \n",
       "min               NaN    0.000000    0.000000    0.000000  \n",
       "25%               NaN    0.000000    0.000000    0.000000  \n",
       "50%               NaN    0.000000    0.000000    0.000000  \n",
       "75%               NaN    1.000000    1.000000    0.000000  \n",
       "max               NaN    1.000000    1.000000    1.000000  "
      ]
     },
     "execution_count": 139,
     "metadata": {},
     "output_type": "execute_result"
    }
   ],
   "source": [
    "time_spend_na = df[df['time_spent_hrs'].isna()]\n",
    "time_spend_na.describe()"
   ]
  },
  {
   "cell_type": "code",
   "execution_count": 140,
   "id": "66613240",
   "metadata": {},
   "outputs": [
    {
     "data": {
      "text/html": [
       "<div>\n",
       "<style scoped>\n",
       "    .dataframe tbody tr th:only-of-type {\n",
       "        vertical-align: middle;\n",
       "    }\n",
       "\n",
       "    .dataframe tbody tr th {\n",
       "        vertical-align: top;\n",
       "    }\n",
       "\n",
       "    .dataframe thead th {\n",
       "        text-align: right;\n",
       "    }\n",
       "</style>\n",
       "<table border=\"1\" class=\"dataframe\">\n",
       "  <thead>\n",
       "    <tr style=\"text-align: right;\">\n",
       "      <th></th>\n",
       "      <th>uuid</th>\n",
       "      <th>job_id</th>\n",
       "      <th>num_course_taken</th>\n",
       "      <th>current_career_path_id</th>\n",
       "      <th>time_spent_hrs</th>\n",
       "      <th>sex_F</th>\n",
       "      <th>sex_M</th>\n",
       "      <th>sex_N</th>\n",
       "    </tr>\n",
       "  </thead>\n",
       "  <tbody>\n",
       "    <tr>\n",
       "      <th>count</th>\n",
       "      <td>471.000000</td>\n",
       "      <td>471.000000</td>\n",
       "      <td>451.0</td>\n",
       "      <td>0.0</td>\n",
       "      <td>0.0</td>\n",
       "      <td>471.000000</td>\n",
       "      <td>471.000000</td>\n",
       "      <td>471.000000</td>\n",
       "    </tr>\n",
       "    <tr>\n",
       "      <th>mean</th>\n",
       "      <td>2550.690021</td>\n",
       "      <td>4.405520</td>\n",
       "      <td>7.776053</td>\n",
       "      <td>&lt;NA&gt;</td>\n",
       "      <td>NaN</td>\n",
       "      <td>0.397028</td>\n",
       "      <td>0.435244</td>\n",
       "      <td>0.167728</td>\n",
       "    </tr>\n",
       "    <tr>\n",
       "      <th>std</th>\n",
       "      <td>1412.471144</td>\n",
       "      <td>2.093326</td>\n",
       "      <td>4.605403</td>\n",
       "      <td>&lt;NA&gt;</td>\n",
       "      <td>NaN</td>\n",
       "      <td>0.489802</td>\n",
       "      <td>0.496316</td>\n",
       "      <td>0.374022</td>\n",
       "    </tr>\n",
       "    <tr>\n",
       "      <th>min</th>\n",
       "      <td>16.000000</td>\n",
       "      <td>1.000000</td>\n",
       "      <td>0.0</td>\n",
       "      <td>&lt;NA&gt;</td>\n",
       "      <td>NaN</td>\n",
       "      <td>0.000000</td>\n",
       "      <td>0.000000</td>\n",
       "      <td>0.000000</td>\n",
       "    </tr>\n",
       "    <tr>\n",
       "      <th>25%</th>\n",
       "      <td>1370.500000</td>\n",
       "      <td>3.000000</td>\n",
       "      <td>4.0</td>\n",
       "      <td>&lt;NA&gt;</td>\n",
       "      <td>NaN</td>\n",
       "      <td>0.000000</td>\n",
       "      <td>0.000000</td>\n",
       "      <td>0.000000</td>\n",
       "    </tr>\n",
       "    <tr>\n",
       "      <th>50%</th>\n",
       "      <td>2494.000000</td>\n",
       "      <td>5.000000</td>\n",
       "      <td>8.0</td>\n",
       "      <td>&lt;NA&gt;</td>\n",
       "      <td>NaN</td>\n",
       "      <td>0.000000</td>\n",
       "      <td>0.000000</td>\n",
       "      <td>0.000000</td>\n",
       "    </tr>\n",
       "    <tr>\n",
       "      <th>75%</th>\n",
       "      <td>3802.000000</td>\n",
       "      <td>6.000000</td>\n",
       "      <td>12.0</td>\n",
       "      <td>&lt;NA&gt;</td>\n",
       "      <td>NaN</td>\n",
       "      <td>1.000000</td>\n",
       "      <td>1.000000</td>\n",
       "      <td>0.000000</td>\n",
       "    </tr>\n",
       "    <tr>\n",
       "      <th>max</th>\n",
       "      <td>4975.000000</td>\n",
       "      <td>8.000000</td>\n",
       "      <td>15.0</td>\n",
       "      <td>&lt;NA&gt;</td>\n",
       "      <td>NaN</td>\n",
       "      <td>1.000000</td>\n",
       "      <td>1.000000</td>\n",
       "      <td>1.000000</td>\n",
       "    </tr>\n",
       "  </tbody>\n",
       "</table>\n",
       "</div>"
      ],
      "text/plain": [
       "              uuid      job_id  num_course_taken  current_career_path_id  \\\n",
       "count   471.000000  471.000000             451.0                     0.0   \n",
       "mean   2550.690021    4.405520          7.776053                    <NA>   \n",
       "std    1412.471144    2.093326          4.605403                    <NA>   \n",
       "min      16.000000    1.000000               0.0                    <NA>   \n",
       "25%    1370.500000    3.000000               4.0                    <NA>   \n",
       "50%    2494.000000    5.000000               8.0                    <NA>   \n",
       "75%    3802.000000    6.000000              12.0                    <NA>   \n",
       "max    4975.000000    8.000000              15.0                    <NA>   \n",
       "\n",
       "       time_spent_hrs       sex_F       sex_M       sex_N  \n",
       "count             0.0  471.000000  471.000000  471.000000  \n",
       "mean              NaN    0.397028    0.435244    0.167728  \n",
       "std               NaN    0.489802    0.496316    0.374022  \n",
       "min               NaN    0.000000    0.000000    0.000000  \n",
       "25%               NaN    0.000000    0.000000    0.000000  \n",
       "50%               NaN    0.000000    0.000000    0.000000  \n",
       "75%               NaN    1.000000    1.000000    0.000000  \n",
       "max               NaN    1.000000    1.000000    1.000000  "
      ]
     },
     "execution_count": 140,
     "metadata": {},
     "output_type": "execute_result"
    }
   ],
   "source": [
    "career_path_na = df[df['current_career_path_id'].isna()]\n",
    "career_path_na.describe()"
   ]
  },
  {
   "cell_type": "markdown",
   "id": "66aacb41",
   "metadata": {},
   "source": [
    "It seems like the missing data in the current_career_path_id and the time_spend_hrs are related. This could potentially be for new users who maybe signed up for a course but havent started yet."
   ]
  },
  {
   "cell_type": "code",
   "execution_count": null,
   "id": "83e8336b",
   "metadata": {},
   "outputs": [],
   "source": []
  }
 ],
 "metadata": {
  "kernelspec": {
   "display_name": "Python 3 (ipykernel)",
   "language": "python",
   "name": "python3"
  },
  "language_info": {
   "codemirror_mode": {
    "name": "ipython",
    "version": 3
   },
   "file_extension": ".py",
   "mimetype": "text/x-python",
   "name": "python",
   "nbconvert_exporter": "python",
   "pygments_lexer": "ipython3",
   "version": "3.11.4"
  }
 },
 "nbformat": 4,
 "nbformat_minor": 5
}
